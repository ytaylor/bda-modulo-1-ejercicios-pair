{
 "cells": [
  {
   "cell_type": "markdown",
   "id": "dad42d0a",
   "metadata": {},
   "source": [
    "## Listas"
   ]
  },
  {
   "cell_type": "code",
   "execution_count": 7,
   "id": "c70940ae",
   "metadata": {},
   "outputs": [
    {
     "name": "stdout",
     "output_type": "stream",
     "text": [
      "['Mati', 35, 'Madrid', True]\n",
      "['Hannia', 35, 'Madrid', True]\n"
     ]
    }
   ],
   "source": [
    "## se crea una lista\n",
    "lista = [\"Mati\", 35, \"Madrid\", True]\n",
    "lista2 = [\"Hannia\", 35, \"Madrid\", True]\n",
    "\n",
    "print(lista)\n",
    "print(lista2)\n"
   ]
  },
  {
   "cell_type": "code",
   "execution_count": 4,
   "id": "58a1b3e1",
   "metadata": {},
   "outputs": [
    {
     "data": {
      "text/plain": [
       "['Marina', 35, 'Madrid', True]"
      ]
     },
     "execution_count": 4,
     "metadata": {},
     "output_type": "execute_result"
    }
   ],
   "source": [
    "lista[0]=\"Marina\"\n",
    "lista\n"
   ]
  },
  {
   "cell_type": "code",
   "execution_count": 9,
   "id": "1dc73d0a",
   "metadata": {},
   "outputs": [
    {
     "data": {
      "text/plain": [
       "False"
      ]
     },
     "execution_count": 9,
     "metadata": {},
     "output_type": "execute_result"
    }
   ],
   "source": [
    "## si existe algo dentro de una lista: si es case sentitive\n",
    "\"Madrid\" in lista"
   ]
  },
  {
   "cell_type": "markdown",
   "id": "799f64fb",
   "metadata": {},
   "source": [
    "![index](https://github.com/Adalab/data_imagenes/blob/main/Modulo-1/python/indice_listas.png?raw=true)\n"
   ]
  },
  {
   "cell_type": "code",
   "execution_count": 11,
   "id": "7c8fafdf",
   "metadata": {},
   "outputs": [
    {
     "data": {
      "text/plain": [
       "['Mati', 35, 'Madrid', True, 'España']"
      ]
     },
     "execution_count": 11,
     "metadata": {},
     "output_type": "execute_result"
    }
   ],
   "source": [
    "## Operaciones podemos hacer: funciones\n",
    "lista.append(\"España\")\n",
    "lista"
   ]
  },
  {
   "cell_type": "code",
   "execution_count": 12,
   "id": "b401fee7",
   "metadata": {},
   "outputs": [],
   "source": [
    "## insert(posicion, valor)\n",
    "lista.insert(1, \"Soltera\")"
   ]
  },
  {
   "cell_type": "code",
   "execution_count": 13,
   "id": "c037bc56",
   "metadata": {},
   "outputs": [
    {
     "data": {
      "text/plain": [
       "['Mati', 'Soltera', 35, 'Madrid', True, 'España']"
      ]
     },
     "execution_count": 13,
     "metadata": {},
     "output_type": "execute_result"
    }
   ],
   "source": [
    "lista"
   ]
  },
  {
   "cell_type": "code",
   "execution_count": 14,
   "id": "e4de7931",
   "metadata": {},
   "outputs": [
    {
     "data": {
      "text/plain": [
       "['Mati', 'Soltera', 35, 'Madrid', True]"
      ]
     },
     "execution_count": 14,
     "metadata": {},
     "output_type": "execute_result"
    }
   ],
   "source": [
    "#remove\n",
    "lista.remove(\"España\")\n",
    "lista"
   ]
  },
  {
   "cell_type": "code",
   "execution_count": null,
   "id": "3dd140d3",
   "metadata": {},
   "outputs": [],
   "source": [
    "lista.remove(lista[0]) #eliminar el valor de la posicion"
   ]
  },
  {
   "cell_type": "code",
   "execution_count": 23,
   "id": "43cdbb31",
   "metadata": {},
   "outputs": [
    {
     "data": {
      "text/plain": [
       "['Soltera', 35, 'Madrid', True]"
      ]
     },
     "execution_count": 23,
     "metadata": {},
     "output_type": "execute_result"
    }
   ],
   "source": [
    "lista"
   ]
  },
  {
   "cell_type": "code",
   "execution_count": 22,
   "id": "405ac2e2",
   "metadata": {},
   "outputs": [
    {
     "data": {
      "text/plain": [
       "4"
      ]
     },
     "execution_count": 22,
     "metadata": {},
     "output_type": "execute_result"
    }
   ],
   "source": [
    "len(lista) #cantidad de elementos de una lista"
   ]
  },
  {
   "cell_type": "code",
   "execution_count": 25,
   "id": "ee89f2fc",
   "metadata": {},
   "outputs": [
    {
     "data": {
      "text/plain": [
       "'Madrid'"
      ]
     },
     "execution_count": 25,
     "metadata": {},
     "output_type": "execute_result"
    }
   ],
   "source": [
    "lista[-2]"
   ]
  },
  {
   "cell_type": "code",
   "execution_count": 26,
   "id": "2d2d1016",
   "metadata": {},
   "outputs": [
    {
     "data": {
      "text/plain": [
       "True"
      ]
     },
     "execution_count": 26,
     "metadata": {},
     "output_type": "execute_result"
    }
   ],
   "source": [
    "lista[len(lista)-1]"
   ]
  },
  {
   "cell_type": "code",
   "execution_count": 27,
   "id": "57eacc2a",
   "metadata": {},
   "outputs": [
    {
     "data": {
      "text/plain": [
       "['A', 'B', 'C', 'D']"
      ]
     },
     "execution_count": 27,
     "metadata": {},
     "output_type": "execute_result"
    }
   ],
   "source": [
    "lista2= [\"A\", \"B\", \"C\", \"D\", \"E\", \"H\"]\n",
    "lista2[0:4]"
   ]
  },
  {
   "cell_type": "code",
   "execution_count": 40,
   "id": "e5b4323e",
   "metadata": {},
   "outputs": [
    {
     "data": {
      "text/plain": [
       "['A', 'B', 'C']"
      ]
     },
     "execution_count": 40,
     "metadata": {},
     "output_type": "execute_result"
    }
   ],
   "source": [
    "lista_rango = lista2[0:3]\n",
    "lista_rango"
   ]
  },
  {
   "cell_type": "code",
   "execution_count": 41,
   "id": "912a36fa",
   "metadata": {},
   "outputs": [
    {
     "data": {
      "text/plain": [
       "['E', 'H']"
      ]
     },
     "execution_count": 41,
     "metadata": {},
     "output_type": "execute_result"
    }
   ],
   "source": [
    "lista_rango_2 = lista2[4:6]\n",
    "lista_rango_2 "
   ]
  },
  {
   "cell_type": "code",
   "execution_count": 42,
   "id": "9b7f0dee",
   "metadata": {},
   "outputs": [],
   "source": [
    "lista_rango.extend(lista_rango_2) ## añadir una lista a otra "
   ]
  },
  {
   "cell_type": "code",
   "execution_count": 43,
   "id": "273409db",
   "metadata": {},
   "outputs": [
    {
     "data": {
      "text/plain": [
       "['A', 'B', 'C', 'E', 'H']"
      ]
     },
     "execution_count": 43,
     "metadata": {},
     "output_type": "execute_result"
    }
   ],
   "source": [
    "lista_rango"
   ]
  },
  {
   "cell_type": "code",
   "execution_count": 30,
   "id": "cb74c26e",
   "metadata": {},
   "outputs": [
    {
     "data": {
      "text/plain": [
       "['A', 'B', 'C', 'D', 'E']"
      ]
     },
     "execution_count": 30,
     "metadata": {},
     "output_type": "execute_result"
    }
   ],
   "source": [
    "lista_nueva = lista2[:5]\n",
    "lista_nueva"
   ]
  },
  {
   "cell_type": "code",
   "execution_count": 31,
   "id": "bfcf7e2f",
   "metadata": {},
   "outputs": [
    {
     "data": {
      "text/plain": [
       "[8, 7, 6, 5, 4, 3, 2, 1]"
      ]
     },
     "execution_count": 31,
     "metadata": {},
     "output_type": "execute_result"
    }
   ],
   "source": [
    "lista3=[1,2,3,4,5,6,7,8]\n",
    "lista3.reverse()\n",
    "lista3"
   ]
  },
  {
   "cell_type": "code",
   "execution_count": 32,
   "id": "f7f7355d",
   "metadata": {},
   "outputs": [
    {
     "data": {
      "text/plain": [
       "1"
      ]
     },
     "execution_count": 32,
     "metadata": {},
     "output_type": "execute_result"
    }
   ],
   "source": [
    "min(lista3)"
   ]
  },
  {
   "cell_type": "code",
   "execution_count": 33,
   "id": "e2ff164e",
   "metadata": {},
   "outputs": [
    {
     "data": {
      "text/plain": [
       "8"
      ]
     },
     "execution_count": 33,
     "metadata": {},
     "output_type": "execute_result"
    }
   ],
   "source": [
    "max(lista3)"
   ]
  },
  {
   "cell_type": "code",
   "execution_count": 34,
   "id": "70c17f90",
   "metadata": {},
   "outputs": [
    {
     "data": {
      "text/plain": [
       "[1, 2, 3, 4, 5, 6, 7, 8]"
      ]
     },
     "execution_count": 34,
     "metadata": {},
     "output_type": "execute_result"
    }
   ],
   "source": [
    "lista3.sort()\n",
    "lista3"
   ]
  },
  {
   "cell_type": "code",
   "execution_count": 36,
   "id": "675ab50e",
   "metadata": {},
   "outputs": [
    {
     "data": {
      "text/plain": [
       "1"
      ]
     },
     "execution_count": 36,
     "metadata": {},
     "output_type": "execute_result"
    }
   ],
   "source": [
    "lista3.count(5)"
   ]
  },
  {
   "cell_type": "code",
   "execution_count": null,
   "id": "bd304967",
   "metadata": {},
   "outputs": [],
   "source": [
    "lista_copia = lista3.copy()"
   ]
  },
  {
   "cell_type": "code",
   "execution_count": 37,
   "id": "cd8d1a40",
   "metadata": {},
   "outputs": [
    {
     "data": {
      "text/plain": [
       "5"
      ]
     },
     "execution_count": 37,
     "metadata": {},
     "output_type": "execute_result"
    }
   ],
   "source": [
    "lista3.index(6)"
   ]
  },
  {
   "cell_type": "markdown",
   "id": "f9992820",
   "metadata": {},
   "source": [
    "# Ejercicio: De la siguiente lista, elimina un país concreto, añade otro en una ubicación concreta, dale la vuelta, pide a la usuaria que introduzca\n",
    "# un país y añádelo a la lista,\n",
    "# ordénala por orden alfabético y cuenta cuántos países hay"
   ]
  },
  {
   "cell_type": "code",
   "execution_count": 56,
   "id": "219afbda",
   "metadata": {},
   "outputs": [],
   "source": [
    "paises = [\"España\", \"Italia\", \"Bélgica\", \"Suiza\", \"Portugal\"]\n",
    "paises_copy = paises.copy()"
   ]
  },
  {
   "cell_type": "code",
   "execution_count": 57,
   "id": "3c96831b",
   "metadata": {},
   "outputs": [
    {
     "data": {
      "text/plain": [
       "['España', 'Italia', 'Bélgica', 'Portugal']"
      ]
     },
     "execution_count": 57,
     "metadata": {},
     "output_type": "execute_result"
    }
   ],
   "source": [
    "paises.remove(\"Suiza\")\n",
    "paises"
   ]
  },
  {
   "cell_type": "code",
   "execution_count": 58,
   "id": "28ebc02b",
   "metadata": {},
   "outputs": [
    {
     "data": {
      "text/plain": [
       "['España', 'Italia', 'Francia', 'Bélgica', 'Portugal']"
      ]
     },
     "execution_count": 58,
     "metadata": {},
     "output_type": "execute_result"
    }
   ],
   "source": [
    "paises.insert(2, \"Francia\")\n",
    "paises"
   ]
  },
  {
   "cell_type": "code",
   "execution_count": 59,
   "id": "b8c853ac",
   "metadata": {},
   "outputs": [
    {
     "data": {
      "text/plain": [
       "['Portugal', 'Bélgica', 'Francia', 'Italia', 'España']"
      ]
     },
     "execution_count": 59,
     "metadata": {},
     "output_type": "execute_result"
    }
   ],
   "source": [
    "paises.reverse()\n",
    "paises"
   ]
  },
  {
   "cell_type": "code",
   "execution_count": 60,
   "id": "fb71bdcf",
   "metadata": {},
   "outputs": [],
   "source": [
    "nuevo_pais = input(\"Dime un pais\")\n",
    "paises.append(nuevo_pais)\n"
   ]
  },
  {
   "cell_type": "code",
   "execution_count": 61,
   "id": "5973e9e3",
   "metadata": {},
   "outputs": [
    {
     "data": {
      "text/plain": [
       "['Portugal', 'Bélgica', 'Francia', 'Italia', 'España', 'Escocia']"
      ]
     },
     "execution_count": 61,
     "metadata": {},
     "output_type": "execute_result"
    }
   ],
   "source": [
    "paises"
   ]
  },
  {
   "cell_type": "code",
   "execution_count": 53,
   "id": "30a0c5cc",
   "metadata": {},
   "outputs": [],
   "source": [
    "paises[-1] = \"Escocia\""
   ]
  },
  {
   "cell_type": "code",
   "execution_count": 62,
   "id": "fc216edf",
   "metadata": {},
   "outputs": [
    {
     "data": {
      "text/plain": [
       "['Bélgica', 'Escocia', 'España', 'Francia', 'Italia', 'Portugal']"
      ]
     },
     "execution_count": 62,
     "metadata": {},
     "output_type": "execute_result"
    }
   ],
   "source": [
    "paises.sort()\n",
    "paises"
   ]
  },
  {
   "cell_type": "code",
   "execution_count": 63,
   "id": "12e2a930",
   "metadata": {},
   "outputs": [
    {
     "data": {
      "text/plain": [
       "['Portugal', 'Italia', 'Francia', 'España', 'Escocia', 'Bélgica']"
      ]
     },
     "execution_count": 63,
     "metadata": {},
     "output_type": "execute_result"
    }
   ],
   "source": [
    "paises.sort(reverse=True)\n",
    "paises"
   ]
  },
  {
   "cell_type": "markdown",
   "id": "ee63d480",
   "metadata": {},
   "source": [
    "## TUPLAS"
   ]
  },
  {
   "cell_type": "code",
   "execution_count": 64,
   "id": "07ac9fe8",
   "metadata": {},
   "outputs": [],
   "source": [
    "tupla = (20, \"Otoño\", \"Invierno\", [2, 4, 5, 7])\n",
    "\n"
   ]
  },
  {
   "cell_type": "code",
   "execution_count": 65,
   "id": "6882b5bd",
   "metadata": {},
   "outputs": [
    {
     "data": {
      "text/plain": [
       "1"
      ]
     },
     "execution_count": 65,
     "metadata": {},
     "output_type": "execute_result"
    }
   ],
   "source": [
    "tupla.index(\"Otoño\")"
   ]
  },
  {
   "cell_type": "code",
   "execution_count": 66,
   "id": "2c3cc2e8",
   "metadata": {},
   "outputs": [
    {
     "data": {
      "text/plain": [
       "1"
      ]
     },
     "execution_count": 66,
     "metadata": {},
     "output_type": "execute_result"
    }
   ],
   "source": [
    "tupla.count(\"Invierno\")"
   ]
  },
  {
   "cell_type": "code",
   "execution_count": 67,
   "id": "5d950a65",
   "metadata": {},
   "outputs": [
    {
     "data": {
      "text/plain": [
       "20"
      ]
     },
     "execution_count": 67,
     "metadata": {},
     "output_type": "execute_result"
    }
   ],
   "source": [
    "tupla[0]"
   ]
  },
  {
   "cell_type": "code",
   "execution_count": null,
   "id": "88ce1f62",
   "metadata": {},
   "outputs": [],
   "source": [
    "lista_tupla = list(tupla) # convierte en una lista\n",
    "\n",
    "tupla2 = tuple(lista_tupla) ## proceso de convertir lista tupla"
   ]
  },
  {
   "cell_type": "code",
   "execution_count": 68,
   "id": "e730e5c4",
   "metadata": {},
   "outputs": [
    {
     "data": {
      "text/plain": [
       "[('Ana', 'ana@gmail.com'), ('Alba', 'alba@gmail.com')]"
      ]
     },
     "execution_count": 68,
     "metadata": {},
     "output_type": "execute_result"
    }
   ],
   "source": [
    "nombres = [\"Ana\", \"Alba\"]\n",
    "correos = [\"ana@gmail.com\", \"alba@gmail.com\"]\n",
    "\n",
    "list(zip(nombres, correos))\n"
   ]
  }
 ],
 "metadata": {
  "kernelspec": {
   "display_name": "Python 3",
   "language": "python",
   "name": "python3"
  },
  "language_info": {
   "codemirror_mode": {
    "name": "ipython",
    "version": 3
   },
   "file_extension": ".py",
   "mimetype": "text/x-python",
   "name": "python",
   "nbconvert_exporter": "python",
   "pygments_lexer": "ipython3",
   "version": "3.10.13"
  }
 },
 "nbformat": 4,
 "nbformat_minor": 5
}
